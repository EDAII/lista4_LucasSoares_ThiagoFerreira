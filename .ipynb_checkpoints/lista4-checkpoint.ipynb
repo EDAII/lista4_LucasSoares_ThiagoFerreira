{
 "cells": [
  {
   "cell_type": "markdown",
   "metadata": {},
   "source": [
    "# Lista 2 - Algoritmos de Ordenação\n",
    "\n",
    "## Alunos\n",
    "\n",
    "* Lucas S. Souza - 140151257\n",
    "* Thiago Ferreira - 15/0149948"
   ]
  },
  {
   "cell_type": "code",
   "execution_count": 184,
   "metadata": {},
   "outputs": [],
   "source": [
    "#Libs\n",
    "import numpy as np\n",
    "import time\n",
    "import random\n",
    "from random import randint\n",
    "import matplotlib.pyplot as plt\n",
    "from IPython.display import display, Markdown, Latex\n",
    "import copy "
   ]
  },
  {
   "cell_type": "markdown",
   "metadata": {},
   "source": [
    "## Counting Sort"
   ]
  },
  {
   "cell_type": "code",
   "execution_count": 173,
   "metadata": {},
   "outputs": [],
   "source": [
    "def countingSort(arr, exp1): \n",
    "    \n",
    "    n = len(arr) \n",
    "  \n",
    "    # The output array elements that will have sorted arr \n",
    "    output = [0] * (n) \n",
    "  \n",
    "    # initialize count array as 0 \n",
    "    count = [0] * (10) \n",
    "  \n",
    "    # Store count of occurrences in count[] \n",
    "    for i in range(0, n): \n",
    "        index = (arr[i]/exp1) \n",
    "        count[ int((index)%10) ] += 1\n",
    "\n",
    "    # Change count[i] so that count[i] now contains actual \n",
    "    #  position of this digit in output array \n",
    "    for i in range(1,10): \n",
    "        count[i] += count[i-1] \n",
    "    \n",
    "    # Build the output array \n",
    "    i = n-1\n",
    "    while i>=0: \n",
    "        index = (arr[i]/exp1) \n",
    "        output[ count[ int((index)%10) ] - 1] = arr[i] \n",
    "        count[ int((index)%10) ] -= 1\n",
    "        i -= 1\n",
    "  \n",
    "    # Copying the output array to arr[], \n",
    "    # so that arr now contains sorted numbers \n",
    "    i = 0\n",
    "    for i in range(0,len(arr)): \n",
    "        arr[i] = output[i] "
   ]
  },
  {
   "cell_type": "markdown",
   "metadata": {},
   "source": [
    "## Radix Sort Algorithm"
   ]
  },
  {
   "cell_type": "code",
   "execution_count": 180,
   "metadata": {},
   "outputs": [],
   "source": [
    "def radixSort(arr): \n",
    "    \n",
    "    # Find the maximum number to know number of digits \n",
    "    max1 = max(arr) \n",
    "  \n",
    "    # Do counting sort for every digit. Note that instead \n",
    "    # of passing digit number, exp is passed. exp is 10^i \n",
    "    # where i is current digit number \n",
    "    exp = 1\n",
    "    while max1/exp > 0:\n",
    "        countingSort(arr,exp) \n",
    "        exp *= 10\n"
   ]
  },
  {
   "cell_type": "markdown",
   "metadata": {},
   "source": [
    "## Heap Sort"
   ]
  },
  {
   "cell_type": "code",
   "execution_count": 175,
   "metadata": {},
   "outputs": [],
   "source": [
    "def heapify(arr, n, i): \n",
    "    largest = i  # Initialize largest as root \n",
    "    l = 2 * i + 1     # left = 2*i + 1 \n",
    "    r = 2 * i + 2     # right = 2*i + 2 \n",
    "  \n",
    "    # See if left child of root exists and is \n",
    "    # greater than root \n",
    "    if l < n and arr[i] < arr[l]: \n",
    "        largest = l \n",
    "  \n",
    "    # See if right child of root exists and is \n",
    "    # greater than root \n",
    "    if r < n and arr[largest] < arr[r]: \n",
    "        largest = r \n",
    "  \n",
    "    # Change root, if needed \n",
    "    if largest != i: \n",
    "        arr[i],arr[largest] = arr[largest],arr[i]  # swap \n",
    "  \n",
    "        # Heapify the root. \n",
    "        heapify(arr, n, largest) \n",
    "        \n",
    "def heapSort(arr,printar): \n",
    "    \n",
    "    if(printar):\n",
    "        display(Markdown(\"### Vetor de entrada:\"))\n",
    "        print(arr)\n",
    "    \n",
    "    n = len(arr) \n",
    "  \n",
    "    # Build a maxheap. \n",
    "    for i in range(n, -1, -1): \n",
    "        heapify(arr, n, i) \n",
    "    \n",
    "    if(printar):\n",
    "        display(Markdown(\"### Heap Criado:\"))\n",
    "        print(arr)\n",
    "\n",
    "    # One by one extract elements \n",
    "    j = 1\n",
    "    for i in range(n-1, 0, -1): \n",
    "        arr[i], arr[0] = arr[0], arr[i]   # swap \n",
    "        heapify(arr, i, 0)\n",
    "        if(printar):\n",
    "            print(\"\\n\")\n",
    "            display(Markdown(\"### \"+str(j)+\"ª Extração da raíz do heap:\"))\n",
    "            print(\"   \")\n",
    "            print(arr)\n",
    "            j +=1"
   ]
  },
  {
   "cell_type": "markdown",
   "metadata": {},
   "source": [
    "## Exemplo RadixSort:\n",
    "### Vetor: [10,12,11,23,42,32,123,234,22,54,32,65,44,22,11,30]"
   ]
  },
  {
   "cell_type": "code",
   "execution_count": 182,
   "metadata": {},
   "outputs": [
    {
     "data": {
      "text/markdown": [
       "### Resultado: "
      ],
      "text/plain": [
       "<IPython.core.display.Markdown object>"
      ]
     },
     "metadata": {},
     "output_type": "display_data"
    },
    {
     "name": "stdout",
     "output_type": "stream",
     "text": [
      "[10, 11, 11, 12, 22, 22, 23, 30, 32, 32, 42, 44, 54, 65, 123, 234]\n"
     ]
    }
   ],
   "source": [
    "vetor = [10,12,11,23,42,32,123,234,22,54,32,65,44,22,11,30]\n",
    "display(Markdown(\"### Resultado: \"))\n",
    "radixSort(vetor)\n",
    "print(vetor)"
   ]
  },
  {
   "cell_type": "markdown",
   "metadata": {},
   "source": [
    "## Exemplo do HeapSort passo a passo:\n",
    "### Vetor: [33,23,5,6,16,25,15]"
   ]
  },
  {
   "cell_type": "code",
   "execution_count": 183,
   "metadata": {},
   "outputs": [
    {
     "data": {
      "text/markdown": [
       "### Vetor de entrada:"
      ],
      "text/plain": [
       "<IPython.core.display.Markdown object>"
      ]
     },
     "metadata": {},
     "output_type": "display_data"
    },
    {
     "name": "stdout",
     "output_type": "stream",
     "text": [
      "[33, 23, 5, 6, 16, 25, 15]\n"
     ]
    },
    {
     "data": {
      "text/markdown": [
       "### Heap Criado:"
      ],
      "text/plain": [
       "<IPython.core.display.Markdown object>"
      ]
     },
     "metadata": {},
     "output_type": "display_data"
    },
    {
     "name": "stdout",
     "output_type": "stream",
     "text": [
      "[33, 23, 25, 6, 16, 5, 15]\n",
      "\n",
      "\n"
     ]
    },
    {
     "data": {
      "text/markdown": [
       "### 1ª Extração da raíz do heap:"
      ],
      "text/plain": [
       "<IPython.core.display.Markdown object>"
      ]
     },
     "metadata": {},
     "output_type": "display_data"
    },
    {
     "name": "stdout",
     "output_type": "stream",
     "text": [
      "   \n",
      "[25, 23, 15, 6, 16, 5, 33]\n",
      "\n",
      "\n"
     ]
    },
    {
     "data": {
      "text/markdown": [
       "### 2ª Extração da raíz do heap:"
      ],
      "text/plain": [
       "<IPython.core.display.Markdown object>"
      ]
     },
     "metadata": {},
     "output_type": "display_data"
    },
    {
     "name": "stdout",
     "output_type": "stream",
     "text": [
      "   \n",
      "[23, 16, 15, 6, 5, 25, 33]\n",
      "\n",
      "\n"
     ]
    },
    {
     "data": {
      "text/markdown": [
       "### 3ª Extração da raíz do heap:"
      ],
      "text/plain": [
       "<IPython.core.display.Markdown object>"
      ]
     },
     "metadata": {},
     "output_type": "display_data"
    },
    {
     "name": "stdout",
     "output_type": "stream",
     "text": [
      "   \n",
      "[16, 6, 15, 5, 23, 25, 33]\n",
      "\n",
      "\n"
     ]
    },
    {
     "data": {
      "text/markdown": [
       "### 4ª Extração da raíz do heap:"
      ],
      "text/plain": [
       "<IPython.core.display.Markdown object>"
      ]
     },
     "metadata": {},
     "output_type": "display_data"
    },
    {
     "name": "stdout",
     "output_type": "stream",
     "text": [
      "   \n",
      "[15, 6, 5, 16, 23, 25, 33]\n",
      "\n",
      "\n"
     ]
    },
    {
     "data": {
      "text/markdown": [
       "### 5ª Extração da raíz do heap:"
      ],
      "text/plain": [
       "<IPython.core.display.Markdown object>"
      ]
     },
     "metadata": {},
     "output_type": "display_data"
    },
    {
     "name": "stdout",
     "output_type": "stream",
     "text": [
      "   \n",
      "[6, 5, 15, 16, 23, 25, 33]\n",
      "\n",
      "\n"
     ]
    },
    {
     "data": {
      "text/markdown": [
       "### 6ª Extração da raíz do heap:"
      ],
      "text/plain": [
       "<IPython.core.display.Markdown object>"
      ]
     },
     "metadata": {},
     "output_type": "display_data"
    },
    {
     "name": "stdout",
     "output_type": "stream",
     "text": [
      "   \n",
      "[5, 6, 15, 16, 23, 25, 33]\n"
     ]
    }
   ],
   "source": [
    "vetor = [33,23,5,6,16,25,15]\n",
    "\n",
    "heapSort(vetor,True)"
   ]
  },
  {
   "cell_type": "markdown",
   "metadata": {},
   "source": [
    "## HeapSort vs RadixSort\n",
    "\n",
    "* 1º caso de teste: Tempo médio de ordenação de três vetores de 1000 valores aleatórios cada;\n",
    "* 2º caso de teste: Tempo médio de ordenação de três vetores de 100 valores previamente ordenados;\n",
    "* 3º caso de teste: Tempo médio de ordenação de três vetores de 1000 valores em ordem decrescente;"
   ]
  },
  {
   "cell_type": "code",
   "execution_count": 185,
   "metadata": {},
   "outputs": [
    {
     "name": "stdout",
     "output_type": "stream",
     "text": [
      "Caso 1: ok\n",
      "Caso 2: ok\n",
      "Caso 3: ok\n",
      "[240, 949, 101, 942, 91, 480, 237, 994, 167, 844, 746, 488, 653, 515, 15, 968, 998, 585, 492, 462, 809, 963, 747, 910, 718, 361, 859, 669, 587, 185, 643, 26, 930, 246, 247, 415, 431, 289, 281, 3, 914, 629, 755, 34, 863, 420, 326, 385, 388, 298, 880, 439, 253, 664, 609, 387, 922, 864, 879, 174, 884, 461, 961, 612, 71, 324, 691, 255, 924, 591, 945, 825, 984, 11, 578, 552, 604, 891, 261, 263, 906, 503, 819, 124, 307, 796, 453, 409, 667, 506, 87, 317, 917, 915, 763, 398, 966, 96, 649, 455, 779, 671, 164, 538, 534, 803, 158, 908, 362, 773, 47, 500, 316, 975, 423, 527, 168, 637, 916, 517, 514, 582, 592, 911, 412, 898, 266, 788, 923, 445, 132, 586, 180, 250, 21, 909, 435, 654, 645, 856, 903, 698, 228, 709, 67, 327, 29, 171, 353, 690, 139, 19, 877, 815, 216, 679, 83, 208, 156, 70, 187, 521, 683, 593, 74, 522, 539, 339, 451, 694, 172, 596, 848, 717, 131, 499, 498, 223, 211, 501, 150, 137, 135, 842, 933, 424, 33, 352, 225, 305, 64, 115, 551, 212, 321, 861, 57, 767, 907, 377, 136, 122, 481, 346, 384, 569, 269, 380, 141, 66, 322, 682, 750, 359, 801, 301, 484, 93, 408, 197, 544, 108, 795, 40, 397, 283, 701, 449, 634, 571, 820, 119, 1, 107, 210, 95, 644, 524, 940, 890, 337, 165, 700, 350, 286, 558, 663, 633, 944, 134, 523, 594, 51, 948, 12, 202, 392, 983, 374, 479, 985, 173, 742, 277, 697, 555, 194, 504, 704, 32, 226, 837, 245, 568, 110, 978, 657, 355, 919, 104, 749, 502, 144, 936, 457, 199, 584, 577, 802, 182, 72, 312, 659, 146, 769, 128, 351, 231, 207, 822, 236, 487, 258, 901, 48, 642, 367, 323, 999, 419, 65, 243, 735, 817, 50, 474, 371, 118, 31, 839, 111, 360, 976, 598, 222, 508, 78, 530, 273, 53, 233, 608, 467, 734, 356, 400, 721, 364, 699, 706, 799, 370, 328, 805, 79, 425, 227, 489, 62, 988, 787, 61, 217, 373, 905, 777, 601, 282, 292, 378, 99, 55, 280, 513, 646, 98, 778, 639, 977, 375, 170, 309, 54, 638, 808, 770, 471, 865, 234, 169, 344, 621, 545, 267, 186, 727, 618, 303, 213, 476, 507, 800, 529, 597, 871, 433, 490, 617, 332, 130, 973, 335, 279, 860, 25, 912, 284, 872, 302, 744, 304, 163, 109, 784, 628, 395, 990, 68, 86, 391, 536, 348, 148, 845, 432, 143, 564, 456, 76, 647, 43, 611, 448, 869, 265, 729, 684, 632, 183, 297, 224, 937, 464, 904, 483, 260, 894, 510, 417, 881, 271, 161, 154, 715, 542, 858, 928, 308, 662, 813, 275, 547, 757, 918, 855, 630, 105, 650, 386, 573, 743, 883, 444, 402, 934, 486, 446, 35, 783, 960, 372, 333, 752, 920, 291, 469, 774, 406, 716, 775, 537, 834, 567, 369, 726, 198, 69, 560, 793, 325, 7, 605, 37, 153, 950, 249, 762, 129, 17, 561, 728, 548, 403, 559, 191, 494, 953, 533, 791, 251, 603, 602, 126, 695, 311, 723, 546, 390, 114, 550, 383, 516, 221, 686, 847, 63, 209, 472, 804, 993, 913, 841, 665, 812, 155, 794, 220, 30, 450, 540, 696, 685, 204, 606, 440, 962, 823, 452, 739, 892, 798, 244, 656, 94, 748, 708, 496, 850, 229, 925, 113, 203, 806, 687, 971, 581, 843, 56, 874, 257, 870, 405, 995, 731, 616, 835, 125, 992, 319, 2, 123, 607, 242, 493, 875, 368, 931, 465, 887, 23, 73, 24, 828, 42, 980, 331, 714, 411, 184, 121, 991, 989, 428, 712, 957, 678, 764, 299, 0, 379, 840, 414, 785, 296, 127, 345, 553, 396, 854, 741, 946, 758, 218, 407, 624, 438, 566, 876, 159, 588, 583, 943, 921, 340, 318, 262, 46, 543, 790, 81, 520, 951, 151, 710, 102, 162, 92, 196, 248, 60, 336, 14, 38, 49, 381, 556, 365, 600, 518, 897, 797, 393, 219, 418, 6, 676, 413, 827, 106, 401, 90, 77, 826, 693, 13, 765, 254, 142, 20, 648, 10, 625, 112, 441, 44, 675, 902, 851, 404, 436, 88, 421, 579, 278, 759, 160, 214, 610, 4, 651, 422, 761, 429, 416, 206, 786, 447, 979, 810, 751, 619, 849, 100, 900, 313, 652, 967, 941, 252, 613, 987, 509, 287, 147, 623, 754, 886, 178, 776, 882, 314, 18, 955, 470, 738, 549, 354, 575, 818, 996, 306, 792, 192, 342, 89, 627, 626, 668, 5, 674, 878, 357, 670, 711, 636, 816, 382, 300, 535, 824, 730, 525, 614, 958, 688, 149, 766, 241, 660, 927, 680, 972, 954, 39, 780, 22, 376, 389, 505, 853, 836, 974, 177, 232, 526, 459, 557, 27, 965, 929, 363, 956, 205, 771, 52, 157, 565, 189, 814, 893, 442, 570, 320, 576, 673, 329, 620, 512, 720, 707, 466, 947, 829, 270, 926, 692, 75, 896, 290, 175, 832, 349, 725, 434, 768, 28, 519, 103, 116, 599, 334, 833, 935, 97, 867, 658, 145, 873, 756, 343, 410, 310, 294, 702, 997, 590, 959, 264, 475, 740, 722, 485, 195, 661, 615, 201, 454, 190, 152, 285, 677, 681, 631, 703, 430, 45, 736, 85, 478, 358, 932, 468, 138, 9, 753, 437, 635, 554, 572, 640, 622, 760, 969, 745, 939, 341, 460, 580, 41, 866, 831, 179, 477, 666, 215, 495, 938, 885, 589, 541, 238, 655, 672, 733, 986, 705, 394, 239, 846, 272, 689, 58, 563, 528, 889, 59, 737, 899, 443, 347, 782, 713, 857, 532, 288, 330, 259, 16, 719, 862, 772, 84, 789, 176, 276, 293, 895, 399, 193, 807, 268, 641, 473, 463, 821, 140, 491, 230, 8, 36, 181, 888, 458, 82, 235, 982, 338, 952, 830, 256, 295, 981, 781, 497, 970, 724, 80, 964, 868, 120, 133, 531, 117, 852, 574, 595, 315, 732, 838, 426, 482, 200, 511, 366, 188, 562, 811, 274, 427, 166]\n",
      "AAAAAAAAAAAAAAAAAAAAAAAHHH\n",
      "[240, 949, 101, 942, 91, 480, 237, 994, 167, 844, 746, 488, 653, 515, 15, 968, 998, 585, 492, 462, 809, 963, 747, 910, 718, 361, 859, 669, 587, 185, 643, 26, 930, 246, 247, 415, 431, 289, 281, 3, 914, 629, 755, 34, 863, 420, 326, 385, 388, 298, 880, 439, 253, 664, 609, 387, 922, 864, 879, 174, 884, 461, 961, 612, 71, 324, 691, 255, 924, 591, 945, 825, 984, 11, 578, 552, 604, 891, 261, 263, 906, 503, 819, 124, 307, 796, 453, 409, 667, 506, 87, 317, 917, 915, 763, 398, 966, 96, 649, 455, 779, 671, 164, 538, 534, 803, 158, 908, 362, 773, 47, 500, 316, 975, 423, 527, 168, 637, 916, 517, 514, 582, 592, 911, 412, 898, 266, 788, 923, 445, 132, 586, 180, 250, 21, 909, 435, 654, 645, 856, 903, 698, 228, 709, 67, 327, 29, 171, 353, 690, 139, 19, 877, 815, 216, 679, 83, 208, 156, 70, 187, 521, 683, 593, 74, 522, 539, 339, 451, 694, 172, 596, 848, 717, 131, 499, 498, 223, 211, 501, 150, 137, 135, 842, 933, 424, 33, 352, 225, 305, 64, 115, 551, 212, 321, 861, 57, 767, 907, 377, 136, 122, 481, 346, 384, 569, 269, 380, 141, 66, 322, 682, 750, 359, 801, 301, 484, 93, 408, 197, 544, 108, 795, 40, 397, 283, 701, 449, 634, 571, 820, 119, 1, 107, 210, 95, 644, 524, 940, 890, 337, 165, 700, 350, 286, 558, 663, 633, 944, 134, 523, 594, 51, 948, 12, 202, 392, 983, 374, 479, 985, 173, 742, 277, 697, 555, 194, 504, 704, 32, 226, 837, 245, 568, 110, 978, 657, 355, 919, 104, 749, 502, 144, 936, 457, 199, 584, 577, 802, 182, 72, 312, 659, 146, 769, 128, 351, 231, 207, 822, 236, 487, 258, 901, 48, 642, 367, 323, 999, 419, 65, 243, 735, 817, 50, 474, 371, 118, 31, 839, 111, 360, 976, 598, 222, 508, 78, 530, 273, 53, 233, 608, 467, 734, 356, 400, 721, 364, 699, 706, 799, 370, 328, 805, 79, 425, 227, 489, 62, 988, 787, 61, 217, 373, 905, 777, 601, 282, 292, 378, 99, 55, 280, 513, 646, 98, 778, 639, 977, 375, 170, 309, 54, 638, 808, 770, 471, 865, 234, 169, 344, 621, 545, 267, 186, 727, 618, 303, 213, 476, 507, 800, 529, 597, 871, 433, 490, 617, 332, 130, 973, 335, 279, 860, 25, 912, 284, 872, 302, 744, 304, 163, 109, 784, 628, 395, 990, 68, 86, 391, 536, 348, 148, 845, 432, 143, 564, 456, 76, 647, 43, 611, 448, 869, 265, 729, 684, 632, 183, 297, 224, 937, 464, 904, 483, 260, 894, 510, 417, 881, 271, 161, 154, 715, 542, 858, 928, 308, 662, 813, 275, 547, 757, 918, 855, 630, 105, 650, 386, 573, 743, 883, 444, 402, 934, 486, 446, 35, 783, 960, 372, 333, 752, 920, 291, 469, 774, 406, 716, 775, 537, 834, 567, 369, 726, 198, 69, 560, 793, 325, 7, 605, 37, 153, 950, 249, 762, 129, 17, 561, 728, 548, 403, 559, 191, 494, 953, 533, 791, 251, 603, 602, 126, 695, 311, 723, 546, 390, 114, 550, 383, 516, 221, 686, 847, 63, 209, 472, 804, 993, 913, 841, 665, 812, 155, 794, 220, 30, 450, 540, 696, 685, 204, 606, 440, 962, 823, 452, 739, 892, 798, 244, 656, 94, 748, 708, 496, 850, 229, 925, 113, 203, 806, 687, 971, 581, 843, 56, 874, 257, 870, 405, 995, 731, 616, 835, 125, 992, 319, 2, 123, 607, 242, 493, 875, 368, 931, 465, 887, 23, 73, 24, 828, 42, 980, 331, 714, 411, 184, 121, 991, 989, 428, 712, 957, 678, 764, 299, 0, 379, 840, 414, 785, 296, 127, 345, 553, 396, 854, 741, 946, 758, 218, 407, 624, 438, 566, 876, 159, 588, 583, 943, 921, 340, 318, 262, 46, 543, 790, 81, 520, 951, 151, 710, 102, 162, 92, 196, 248, 60, 336, 14, 38, 49, 381, 556, 365, 600, 518, 897, 797, 393, 219, 418, 6, 676, 413, 827, 106, 401, 90, 77, 826, 693, 13, 765, 254, 142, 20, 648, 10, 625, 112, 441, 44, 675, 902, 851, 404, 436, 88, 421, 579, 278, 759, 160, 214, 610, 4, 651, 422, 761, 429, 416, 206, 786, 447, 979, 810, 751, 619, 849, 100, 900, 313, 652, 967, 941, 252, 613, 987, 509, 287, 147, 623, 754, 886, 178, 776, 882, 314, 18, 955, 470, 738, 549, 354, 575, 818, 996, 306, 792, 192, 342, 89, 627, 626, 668, 5, 674, 878, 357, 670, 711, 636, 816, 382, 300, 535, 824, 730, 525, 614, 958, 688, 149, 766, 241, 660, 927, 680, 972, 954, 39, 780, 22, 376, 389, 505, 853, 836, 974, 177, 232, 526, 459, 557, 27, 965, 929, 363, 956, 205, 771, 52, 157, 565, 189, 814, 893, 442, 570, 320, 576, 673, 329, 620, 512, 720, 707, 466, 947, 829, 270, 926, 692, 75, 896, 290, 175, 832, 349, 725, 434, 768, 28, 519, 103, 116, 599, 334, 833, 935, 97, 867, 658, 145, 873, 756, 343, 410, 310, 294, 702, 997, 590, 959, 264, 475, 740, 722, 485, 195, 661, 615, 201, 454, 190, 152, 285, 677, 681, 631, 703, 430, 45, 736, 85, 478, 358, 932, 468, 138, 9, 753, 437, 635, 554, 572, 640, 622, 760, 969, 745, 939, 341, 460, 580, 41, 866, 831, 179, 477, 666, 215, 495, 938, 885, 589, 541, 238, 655, 672, 733, 986, 705, 394, 239, 846, 272, 689, 58, 563, 528, 889, 59, 737, 899, 443, 347, 782, 713, 857, 532, 288, 330, 259, 16, 719, 862, 772, 84, 789, 176, 276, 293, 895, 399, 193, 807, 268, 641, 473, 463, 821, 140, 491, 230, 8, 36, 181, 888, 458, 82, 235, 982, 338, 952, 830, 256, 295, 981, 781, 497, 970, 724, 80, 964, 868, 120, 133, 531, 117, 852, 574, 595, 315, 732, 838, 426, 482, 200, 511, 366, 188, 562, 811, 274, 427, 166]\n"
     ]
    }
   ],
   "source": [
    "caso1  = []\n",
    "\n",
    "for valor in range (0,3):\n",
    "        lista = random.sample(range(0,1000), 1000)\n",
    "        caso1.append(lista)\n",
    "\n",
    "print(\"Caso 1: ok\")\n",
    "\n",
    "caso2 = []\n",
    "i = 0\n",
    "for valor in range(0,3):\n",
    "    lista = np.arange(1+(i*100), 101+(i*100), dtype = int)\n",
    "    caso2.append(lista)\n",
    "    i += 1\n",
    "\n",
    "print(\"Caso 2: ok\")\n",
    "\n",
    "caso3 = []\n",
    "i = 0\n",
    "for valor in range(0,3):\n",
    "    lista = np.arange(1+(i*100), 101+(i*100), dtype = int)\n",
    "    lista = sorted(lista, key=int, reverse=True)\n",
    "    caso3.append(lista)\n",
    "    i += 1\n",
    "\n",
    "print(\"Caso 3: ok\")"
   ]
  },
  {
   "cell_type": "markdown",
   "metadata": {},
   "source": [
    "### Primeiro Caso:\n",
    "* 1º caso de teste: Tempo médio de ordenação de três vetores de 1000 valores aleatórios cada;"
   ]
  },
  {
   "cell_type": "code",
   "execution_count": null,
   "metadata": {},
   "outputs": [],
   "source": [
    "totalRadix1 = 0\n",
    "totalHeap1 = 0\n",
    "\n",
    "for caso in caso1:\n",
    "    inicioRadix = time.time()\n",
    "    radixSort(caso)\n",
    "    fimRadix = time.time()\n",
    "    \n",
    "    inicioHeap = time.time()\n",
    "    \n",
    "    fimHeap = time.time()\n",
    "    \n",
    "totalRadix1 = totalRadix1/3\n",
    "totalHeap1 = totalHeap1/3"
   ]
  },
  {
   "cell_type": "markdown",
   "metadata": {},
   "source": [
    "### Segundo Caso:\n",
    "* 2º caso de teste: Tempo médio de ordenação de três vetores de 100 valores previamente ordenados;\n"
   ]
  },
  {
   "cell_type": "code",
   "execution_count": null,
   "metadata": {},
   "outputs": [],
   "source": []
  },
  {
   "cell_type": "markdown",
   "metadata": {},
   "source": [
    "### Terceiro Caso:\n",
    "* 3º caso de teste: Tempo médio de ordenação de três vetores de 1000 valores em ordem decrescente;\n"
   ]
  },
  {
   "cell_type": "code",
   "execution_count": null,
   "metadata": {},
   "outputs": [],
   "source": []
  }
 ],
 "metadata": {
  "kernelspec": {
   "display_name": "Python 3",
   "language": "python",
   "name": "python3"
  },
  "language_info": {
   "codemirror_mode": {
    "name": "ipython",
    "version": 3
   },
   "file_extension": ".py",
   "mimetype": "text/x-python",
   "name": "python",
   "nbconvert_exporter": "python",
   "pygments_lexer": "ipython3",
   "version": "3.6.7"
  }
 },
 "nbformat": 4,
 "nbformat_minor": 2
}

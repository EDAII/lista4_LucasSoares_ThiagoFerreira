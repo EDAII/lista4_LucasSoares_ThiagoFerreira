{
 "cells": [
  {
   "cell_type": "markdown",
   "metadata": {},
   "source": [
    "# Lista 2 - Algoritmos de Ordenação\n",
    "\n",
    "## Alunos\n",
    "\n",
    "* Lucas S. Souza - 140151257\n",
    "* Thiago Ferreira - 15/0149948"
   ]
  },
  {
   "cell_type": "code",
   "execution_count": 2,
   "metadata": {},
   "outputs": [],
   "source": [
    "#Libs\n",
    "import numpy as np\n",
    "import time\n",
    "import random\n",
    "from random import randint\n",
    "import matplotlib.pyplot as plt\n",
    "from IPython.display import display, Markdown, Latex"
   ]
  },
  {
   "cell_type": "markdown",
   "metadata": {},
   "source": [
    "## Counting Sort"
   ]
  },
  {
   "cell_type": "code",
   "execution_count": 14,
   "metadata": {},
   "outputs": [],
   "source": [
    "def countingSort(arr, exp1): \n",
    "  \n",
    "    n = len(arr) \n",
    "  \n",
    "    # The output array elements that will have sorted arr \n",
    "    output = [0] * (n) \n",
    "  \n",
    "    # initialize count array as 0 \n",
    "    count = [0] * (10) \n",
    "  \n",
    "    # Store count of occurrences in count[] \n",
    "    for i in range(0, n): \n",
    "        index = (arr[i]/exp1) \n",
    "        count[ int((index)%10) ] += 1\n",
    "  \n",
    "    # Change count[i] so that count[i] now contains actual \n",
    "    #  position of this digit in output array \n",
    "    for i in range(1,10): \n",
    "        count[i] += count[i-1] \n",
    "  \n",
    "    # Build the output array \n",
    "    i = n-1\n",
    "    while i>=0: \n",
    "        index = (arr[i]/exp1) \n",
    "        output[ count[ int((index)%10) ] - 1] = arr[i] \n",
    "        count[ int((index)%10) ] -= 1\n",
    "        i -= 1\n",
    "  \n",
    "    # Copying the output array to arr[], \n",
    "    # so that arr now contains sorted numbers \n",
    "    i = 0\n",
    "    for i in range(0,len(arr)): \n",
    "        arr[i] = output[i] \n",
    "\n",
    "    return arr"
   ]
  },
  {
   "cell_type": "markdown",
   "metadata": {},
   "source": [
    "## Radix Sort Algorithm"
   ]
  },
  {
   "cell_type": "code",
   "execution_count": 38,
   "metadata": {},
   "outputs": [],
   "source": [
    "def radixSort(arr): \n",
    "    \n",
    "    # Find the maximum number to know number of digits \n",
    "    max1 = max(arr) \n",
    "  \n",
    "    # Do counting sort for every digit. Note that instead \n",
    "    # of passing digit number, exp is passed. exp is 10^i \n",
    "    # where i is current digit number \n",
    "    exp = 1\n",
    "    while max1/exp > 0:\n",
    "        countingSort(arr,exp) \n",
    "        exp *= 10\n",
    "        \n",
    "    return arr"
   ]
  },
  {
   "cell_type": "markdown",
   "metadata": {},
   "source": [
    "## Heap Sort"
   ]
  },
  {
   "cell_type": "code",
   "execution_count": 52,
   "metadata": {},
   "outputs": [],
   "source": [
    "def heapify(arr, n, i): \n",
    "    largest = i  # Initialize largest as root \n",
    "    l = 2 * i + 1     # left = 2*i + 1 \n",
    "    r = 2 * i + 2     # right = 2*i + 2 \n",
    "  \n",
    "    # See if left child of root exists and is \n",
    "    # greater than root \n",
    "    if l < n and arr[i] < arr[l]: \n",
    "        largest = l \n",
    "  \n",
    "    # See if right child of root exists and is \n",
    "    # greater than root \n",
    "    if r < n and arr[largest] < arr[r]: \n",
    "        largest = r \n",
    "  \n",
    "    # Change root, if needed \n",
    "    if largest != i: \n",
    "        arr[i],arr[largest] = arr[largest],arr[i]  # swap \n",
    "  \n",
    "        # Heapify the root. \n",
    "        heapify(arr, n, largest) \n",
    "        \n",
    "def heapSort(arr): \n",
    "    n = len(arr) \n",
    "  \n",
    "    # Build a maxheap. \n",
    "    for i in range(n, -1, -1): \n",
    "        heapify(arr, n, i) \n",
    "  \n",
    "    display(Markdown('*Heap Criado: *'))\n",
    "#     print(\"Heap pronto: \")\n",
    "    print(arr)\n",
    "\n",
    "    # One by one extract elements \n",
    "    j = 1\n",
    "    for i in range(n-1, 0, -1): \n",
    "        arr[i], arr[0] = arr[0], arr[i]   # swap \n",
    "        heapify(arr, i, 0)\n",
    "        print(\"\\n\"+str(j)+\"ª Extração da raíz do heap:\")\n",
    "        print(\"   \")\n",
    "        print(arr)\n",
    "        j +=1\n",
    "    \n",
    "    return arr"
   ]
  },
  {
   "cell_type": "code",
   "execution_count": 53,
   "metadata": {},
   "outputs": [
    {
     "name": "stdout",
     "output_type": "stream",
     "text": [
      "Heap pronto: \n",
      "[202, 154, 201, 123, 55, 193, 122, 83, 100, 44, 15, 102, 22, 67, 22, 33, 43, 1, 23]\n",
      "\n",
      "1ª Extração da raíz do heap:\n",
      "   \n",
      "[201, 154, 193, 123, 55, 102, 122, 83, 100, 44, 15, 23, 22, 67, 22, 33, 43, 1, 202]\n",
      "\n",
      "2ª Extração da raíz do heap:\n",
      "   \n",
      "[193, 154, 122, 123, 55, 102, 67, 83, 100, 44, 15, 23, 22, 1, 22, 33, 43, 201, 202]\n",
      "\n",
      "3ª Extração da raíz do heap:\n",
      "   \n",
      "[154, 123, 122, 100, 55, 102, 67, 83, 43, 44, 15, 23, 22, 1, 22, 33, 193, 201, 202]\n",
      "\n",
      "4ª Extração da raíz do heap:\n",
      "   \n",
      "[123, 100, 122, 83, 55, 102, 67, 33, 43, 44, 15, 23, 22, 1, 22, 154, 193, 201, 202]\n",
      "\n",
      "5ª Extração da raíz do heap:\n",
      "   \n",
      "[122, 100, 102, 83, 55, 23, 67, 33, 43, 44, 15, 22, 22, 1, 123, 154, 193, 201, 202]\n",
      "\n",
      "6ª Extração da raíz do heap:\n",
      "   \n",
      "[102, 100, 67, 83, 55, 23, 1, 33, 43, 44, 15, 22, 22, 122, 123, 154, 193, 201, 202]\n",
      "\n",
      "7ª Extração da raíz do heap:\n",
      "   \n",
      "[100, 83, 67, 43, 55, 23, 1, 33, 22, 44, 15, 22, 102, 122, 123, 154, 193, 201, 202]\n",
      "\n",
      "8ª Extração da raíz do heap:\n",
      "   \n",
      "[83, 55, 67, 43, 44, 23, 1, 33, 22, 22, 15, 100, 102, 122, 123, 154, 193, 201, 202]\n",
      "\n",
      "9ª Extração da raíz do heap:\n",
      "   \n",
      "[67, 55, 23, 43, 44, 15, 1, 33, 22, 22, 83, 100, 102, 122, 123, 154, 193, 201, 202]\n",
      "\n",
      "10ª Extração da raíz do heap:\n",
      "   \n",
      "[55, 44, 23, 43, 22, 15, 1, 33, 22, 67, 83, 100, 102, 122, 123, 154, 193, 201, 202]\n",
      "\n",
      "11ª Extração da raíz do heap:\n",
      "   \n",
      "[44, 43, 23, 33, 22, 15, 1, 22, 55, 67, 83, 100, 102, 122, 123, 154, 193, 201, 202]\n",
      "\n",
      "12ª Extração da raíz do heap:\n",
      "   \n",
      "[43, 33, 23, 22, 22, 15, 1, 44, 55, 67, 83, 100, 102, 122, 123, 154, 193, 201, 202]\n",
      "\n",
      "13ª Extração da raíz do heap:\n",
      "   \n",
      "[33, 22, 23, 1, 22, 15, 43, 44, 55, 67, 83, 100, 102, 122, 123, 154, 193, 201, 202]\n",
      "\n",
      "14ª Extração da raíz do heap:\n",
      "   \n",
      "[23, 22, 15, 1, 22, 33, 43, 44, 55, 67, 83, 100, 102, 122, 123, 154, 193, 201, 202]\n",
      "\n",
      "15ª Extração da raíz do heap:\n",
      "   \n",
      "[22, 22, 15, 1, 23, 33, 43, 44, 55, 67, 83, 100, 102, 122, 123, 154, 193, 201, 202]\n",
      "\n",
      "16ª Extração da raíz do heap:\n",
      "   \n",
      "[22, 1, 15, 22, 23, 33, 43, 44, 55, 67, 83, 100, 102, 122, 123, 154, 193, 201, 202]\n",
      "\n",
      "17ª Extração da raíz do heap:\n",
      "   \n",
      "[15, 1, 22, 22, 23, 33, 43, 44, 55, 67, 83, 100, 102, 122, 123, 154, 193, 201, 202]\n",
      "\n",
      "18ª Extração da raíz do heap:\n",
      "   \n",
      "[1, 15, 22, 22, 23, 33, 43, 44, 55, 67, 83, 100, 102, 122, 123, 154, 193, 201, 202]\n"
     ]
    }
   ],
   "source": [
    "vetor = [1,43,22,33,15,22,67,83,23,44,55,102,193,201,122,154,202,100,123]\n",
    "\n",
    "ordernado = heapSort(vetor)"
   ]
  },
  {
   "cell_type": "code",
   "execution_count": null,
   "metadata": {},
   "outputs": [],
   "source": []
  }
 ],
 "metadata": {
  "kernelspec": {
   "display_name": "Python 3",
   "language": "python",
   "name": "python3"
  },
  "language_info": {
   "codemirror_mode": {
    "name": "ipython",
    "version": 3
   },
   "file_extension": ".py",
   "mimetype": "text/x-python",
   "name": "python",
   "nbconvert_exporter": "python",
   "pygments_lexer": "ipython3",
   "version": "3.6.7"
  }
 },
 "nbformat": 4,
 "nbformat_minor": 2
}
